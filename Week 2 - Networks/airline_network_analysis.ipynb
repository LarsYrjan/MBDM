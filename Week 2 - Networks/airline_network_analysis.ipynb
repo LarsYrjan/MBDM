{
 "cells": [
  {
   "cell_type": "markdown",
   "metadata": {},
   "source": [
    "# Airline Routes Network Analysis\n",
    "\n",
    "This notebook analyzes the airline routes network from the OpenFlights dataset.\n",
    "It creates a network graph and computes various network statistics including:\n",
    "- Degree distribution\n",
    "- Top 10 airports by different centrality measures\n",
    "\n",
    "**Data format (CSV):**\n",
    "Airline, Airline ID, Source airport, Source airport ID, Destination airport, \n",
    "Destination airport ID, Codeshare, Stops, Equipment\n",
    "\n",
    "\n",
    "# Airline Route Database\n",
    "\n",
    "(Source: https://openflights.org/data)\n",
    "\n",
    "As of June 2014, the OpenFlights/Airline Route Mapper Route Database contains 67663 routes between 3321 airports on 548 airlines spanning the globe, as shown in the map above. Each entry contains the following information:\n",
    "\n",
    "- Airline\t2-letter (IATA) or 3-letter (ICAO) code of the airline.\n",
    "- Airline ID\tUnique OpenFlights identifier for airline (see Airline).\n",
    "- Source airport\t3-letter (IATA) or 4-letter (ICAO) code of the source airport.\n",
    "- Source airport ID\tUnique OpenFlights identifier for source airport (see Airport)\n",
    "- Destination airport\t3-letter (IATA) or 4-letter (ICAO) code of the destination airport.\n",
    "- Destination airport ID\tUnique OpenFlights identifier for destination airport (see Airport)\n",
    "- Codeshare\t\"Y\" if this flight is a codeshare (that is, not operated by Airline, but another carrier), empty otherwise.\n",
    "- Stops\tNumber of stops on this flight (\"0\" for direct)\n",
    "- Equipment\t3-letter codes for plane type(s) generally used on this flight, separated by spaces\n",
    "\n",
    "The data is UTF-8 encoded. The special value \\N is used for \"NULL\" to indicate that no value is available, and is understood automatically by MySQL if imported.\n",
    "\n",
    "## Notes:\n",
    "Routes are directional: if an airline operates services from A to B and from B to A, both A-B and B-A are listed separately. Routes where one carrier operates both its own and codeshare flights are listed only once.\n",
    "\n",
    "##Sample entries\n",
    "- BA,1355,SIN,3316,LHR,507,,0,744 777\n",
    "- BA,1355,SIN,3316,MEL,3339,Y,0,744\n",
    "- TOM,5013,ACE,1055,BFS,465,,0,320\n",
    "\n",
    "Route maps for airports and airlines can be viewed by searching for their names or code in the website's Search box; alternatively, check out the alphabetical list of all covered airports and airlines.\n",
    "\n"
   ]
  },
  {
   "cell_type": "markdown",
   "metadata": {},
   "source": [
    "## Import Libraries"
   ]
  },
  {
   "cell_type": "code",
   "execution_count": 3,
   "metadata": {},
   "outputs": [],
   "source": [
    "import pandas as pd\n",
    "import networkx as nx\n",
    "import matplotlib.pyplot as plt\n",
    "import numpy as np\n",
    "from collections import Counter\n",
    "import seaborn as sns\n",
    "\n",
    "# Set matplotlib to display plots inline\n",
    "%matplotlib inline\n",
    "\n",
    "# Set style for better looking plots\n",
    "plt.style.use('default')\n",
    "sns.set_palette(\"husl\")"
   ]
  },
  {
   "cell_type": "markdown",
   "metadata": {},
   "source": [
    "## Data Loading Functions"
   ]
  },
  {
   "cell_type": "code",
   "execution_count": null,
   "metadata": {},
   "outputs": [],
   "source": [
    "def load_airline_data(filepath):\n",
    "    \"\"\"\n",
    "    Load airline routes data from CSV file.\n",
    "    \n",
    "    Args:\n",
    "        filepath (str): Path to the airline routes data file\n",
    "        \n",
    "    Returns:\n",
    "        pandas.DataFrame: Loaded and cleaned data\n",
    "    \"\"\"\n",
    "    # Define column names based on the data description\n",
    "    columns = [\n",
    "        'airline_code', 'airline_id', 'source_airport', 'source_airport_id',\n",
    "        'dest_airport', 'dest_airport_id', 'codeshare', 'stops', 'equipment'\n",
    "    ]\n",
    "    \n",
    "    # Load data\n",
    "    print(\"Loading airline routes data...\")\n",
    "    df = pd.read_csv(filepath, names=columns, na_values=['\\\\N']) #pandas provides easy way to load csv file with custom column names and missing value indicator\n",
    "    \n",
    "    print(f\"Loaded {len(df)} routes\") #each line is a route, so it's the length of our dataframe\n",
    "    print(f\"Data shape: {df.shape}\")\n",
    "    \n",
    "    # Remove rows with missing airport codes\n",
    "    df_clean = df.dropna(subset=['source_airport', 'dest_airport'])\n",
    "    print(f\"After removing missing airport codes: {len(df_clean)} routes\")\n",
    "    \n",
    "    return df_clean"
   ]
  },
  {
   "cell_type": "markdown",
   "metadata": {},
   "source": [
    "## Network Creation Functions"
   ]
  },
  {
   "cell_type": "code",
   "execution_count": 5,
   "metadata": {},
   "outputs": [],
   "source": [
    "def create_airport_network(df):\n",
    "    \"\"\"\n",
    "    Create a network graph from airline routes data.\n",
    "    \n",
    "    Args:\n",
    "        df (pandas.DataFrame): Airline routes data\n",
    "        \n",
    "    Returns:\n",
    "        networkx.Graph: Undirected graph of airport connections\n",
    "    \"\"\"\n",
    "    print(\"Creating airport network...\")\n",
    "    \n",
    "    # Create undirected graph (treating routes as bidirectional connections)\n",
    "    G = nx.Graph()\n",
    "    \n",
    "    # Add edges for each route\n",
    "    for _, row in df.iterrows():\n",
    "        source = row['source_airport']\n",
    "        dest = row['dest_airport']\n",
    "        \n",
    "        # Skip self-loops\n",
    "        if source != dest:\n",
    "            if G.has_edge(source, dest):\n",
    "                # Increment weight if edge already exists\n",
    "                G[source][dest]['weight'] += 1\n",
    "            else:\n",
    "                # Add new edge with weight 1\n",
    "                G.add_edge(source, dest, weight=1)\n",
    "    \n",
    "    print(f\"Network created with {G.number_of_nodes()} airports and {G.number_of_edges()} connections\")\n",
    "    \n",
    "    return G"
   ]
  },
  {
   "cell_type": "markdown",
   "metadata": {},
   "source": [
    "## Visualization Functions"
   ]
  },
  {
   "cell_type": "code",
   "execution_count": 6,
   "metadata": {},
   "outputs": [],
   "source": [
    "def plot_degree_distribution(G):\n",
    "    \"\"\"\n",
    "    Plot the degree distribution of the network.\n",
    "    \n",
    "    Args:\n",
    "        G (networkx.Graph): Network graph\n",
    "    \"\"\"\n",
    "    print(\"Plotting degree distribution...\")\n",
    "    \n",
    "    # Get degree sequence\n",
    "    degrees = [G.degree(n) for n in G.nodes()]\n",
    "    degree_counts = Counter(degrees)\n",
    "    \n",
    "    # Create figure with subplots\n",
    "    fig, (ax1, ax2) = plt.subplots(1, 2, figsize=(15, 6))\n",
    "    \n",
    "    # Linear scale plot\n",
    "    degrees_list = list(degree_counts.keys())\n",
    "    counts_list = list(degree_counts.values())\n",
    "    \n",
    "    ax1.bar(degrees_list, counts_list, alpha=0.7, color='skyblue', edgecolor='black')\n",
    "    ax1.set_xlabel('Degree')\n",
    "    ax1.set_ylabel('Number of Airports')\n",
    "    ax1.set_title('Degree Distribution (Linear Scale)')\n",
    "    ax1.grid(True, alpha=0.3)\n",
    "    \n",
    "    # Log-log scale plot\n",
    "    ax2.loglog(degrees_list, counts_list, 'bo', alpha=0.7, markersize=4)\n",
    "    ax2.set_xlabel('Degree (log scale)')\n",
    "    ax2.set_ylabel('Number of Airports (log scale)')\n",
    "    ax2.set_title('Degree Distribution (Log-Log Scale)')\n",
    "    ax2.grid(True, alpha=0.3)\n",
    "    \n",
    "    plt.tight_layout()\n",
    "    plt.savefig('degree_distribution.png', dpi=300, bbox_inches='tight')\n",
    "    plt.show()\n",
    "    \n",
    "    # Print basic statistics\n",
    "    print(f\"\\nDegree Distribution Statistics:\")\n",
    "    print(f\"Mean degree: {np.mean(degrees):.2f}\")\n",
    "    print(f\"Median degree: {np.median(degrees):.2f}\")\n",
    "    print(f\"Max degree: {max(degrees)}\")\n",
    "    print(f\"Min degree: {min(degrees)}\")\n",
    "    print(f\"Standard deviation: {np.std(degrees):.2f}\")"
   ]
  },
  {
   "cell_type": "markdown",
   "metadata": {},
   "source": [
    "## Centrality Analysis Functions"
   ]
  },
  {
   "cell_type": "code",
   "execution_count": 7,
   "metadata": {},
   "outputs": [],
   "source": [
    "def calculate_centrality_measures(G):\n",
    "    \"\"\"\n",
    "    Calculate various centrality measures for the network.\n",
    "    \n",
    "    Args:\n",
    "        G (networkx.Graph): Network graph\n",
    "        \n",
    "    Returns:\n",
    "        dict: Dictionary containing centrality measures\n",
    "    \"\"\"\n",
    "    print(\"Calculating centrality measures...\")\n",
    "    \n",
    "    centralities = {}\n",
    "    \n",
    "    # Degree centrality\n",
    "    print(\"  - Degree centrality...\")\n",
    "    centralities['degree'] = nx.degree_centrality(G)\n",
    "    \n",
    "    # Betweenness centrality (using sampling for large networks)\n",
    "    print(\"  - Betweenness centrality...\")\n",
    "    if G.number_of_nodes() > 1000:\n",
    "        # Use sampling for large networks to speed up computation\n",
    "        k = min(1000, G.number_of_nodes())\n",
    "        centralities['betweenness'] = nx.betweenness_centrality(G, k=k)\n",
    "        print(f\"    (using sampling with k={k} nodes)\")\n",
    "    else:\n",
    "        centralities['betweenness'] = nx.betweenness_centrality(G)\n",
    "    \n",
    "    # Closeness centrality\n",
    "    print(\"  - Closeness centrality...\")\n",
    "    # Only calculate for the largest connected component\n",
    "    largest_cc = max(nx.connected_components(G), key=len)\n",
    "    G_largest = G.subgraph(largest_cc)\n",
    "    closeness_largest = nx.closeness_centrality(G_largest)\n",
    "    \n",
    "    # Extend to full graph with 0 for disconnected nodes\n",
    "    centralities['closeness'] = {node: closeness_largest.get(node, 0) for node in G.nodes()}\n",
    "    \n",
    "    # Eigenvector centrality\n",
    "    print(\"  - Eigenvector centrality...\")\n",
    "    try:\n",
    "        centralities['eigenvector'] = nx.eigenvector_centrality(G_largest, max_iter=1000)\n",
    "        # Extend to full graph with 0 for disconnected nodes\n",
    "        centralities['eigenvector'] = {node: centralities['eigenvector'].get(node, 0) for node in G.nodes()}\n",
    "    except nx.PowerIterationFailedConvergence:\n",
    "        print(\"    Warning: Eigenvector centrality failed to converge, using PageRank instead\")\n",
    "        centralities['eigenvector'] = nx.pagerank(G)\n",
    "    \n",
    "    return centralities"
   ]
  },
  {
   "cell_type": "markdown",
   "metadata": {},
   "source": [
    "## Results Display Functions"
   ]
  },
  {
   "cell_type": "code",
   "execution_count": 8,
   "metadata": {},
   "outputs": [],
   "source": [
    "def display_top_airports(centralities, top_n=10):\n",
    "    \"\"\"\n",
    "    Display top N airports for each centrality measure.\n",
    "    \n",
    "    Args:\n",
    "        centralities (dict): Dictionary of centrality measures\n",
    "        top_n (int): Number of top airports to display\n",
    "    \"\"\"\n",
    "    print(f\"\\n{'='*60}\")\n",
    "    print(f\"TOP {top_n} AIRPORTS BY CENTRALITY MEASURES\")\n",
    "    print(f\"{'='*60}\")\n",
    "    \n",
    "    for measure_name, measure_values in centralities.items():\n",
    "        print(f\"\\n{measure_name.upper()} CENTRALITY:\")\n",
    "        print(\"-\" * 40)\n",
    "        \n",
    "        # Sort airports by centrality value\n",
    "        sorted_airports = sorted(measure_values.items(), key=lambda x: x[1], reverse=True)\n",
    "        \n",
    "        for i, (airport, value) in enumerate(sorted_airports[:top_n], 1):\n",
    "            print(f\"{i:2d}. {airport:4s} - {value:.6f}\")"
   ]
  },
  {
   "cell_type": "code",
   "execution_count": 9,
   "metadata": {},
   "outputs": [],
   "source": [
    "def network_summary(G, df):\n",
    "    \"\"\"\n",
    "    Print a summary of the network properties.\n",
    "    \n",
    "    Args:\n",
    "        G (networkx.Graph): Network graph\n",
    "        df (pandas.DataFrame): Original data\n",
    "    \"\"\"\n",
    "    print(f\"\\n{'='*60}\")\n",
    "    print(\"NETWORK SUMMARY\")\n",
    "    print(f\"{'='*60}\")\n",
    "    \n",
    "    print(f\"Number of airports (nodes): {G.number_of_nodes()}\")\n",
    "    print(f\"Number of connections (edges): {G.number_of_edges()}\")\n",
    "    print(f\"Number of routes in dataset: {len(df)}\")\n",
    "    \n",
    "    # Connected components\n",
    "    num_components = nx.number_connected_components(G)\n",
    "    largest_cc_size = len(max(nx.connected_components(G), key=len))\n",
    "    \n",
    "    print(f\"Number of connected components: {num_components}\")\n",
    "    print(f\"Size of largest connected component: {largest_cc_size}\")\n",
    "    print(f\"Percentage in largest component: {largest_cc_size/G.number_of_nodes()*100:.1f}%\")\n",
    "    \n",
    "    # Density\n",
    "    density = nx.density(G)\n",
    "    print(f\"Network density: {density:.6f}\")\n",
    "    \n",
    "    # Average clustering coefficient\n",
    "    avg_clustering = nx.average_clustering(G)\n",
    "    print(f\"Average clustering coefficient: {avg_clustering:.4f}\")"
   ]
  },
  {
   "cell_type": "markdown",
   "metadata": {},
   "source": [
    "## Load and Process Data"
   ]
  },
  {
   "cell_type": "code",
   "execution_count": 10,
   "metadata": {},
   "outputs": [
    {
     "name": "stdout",
     "output_type": "stream",
     "text": [
      "Loading airline routes data...\n",
      "Loaded 67663 routes\n",
      "Data shape: (67663, 9)\n",
      "After removing missing airport codes: 67663 routes\n",
      "\n",
      "First 5 rows of the data:\n",
      "  airline_code  airline_id source_airport  source_airport_id dest_airport  \\\n",
      "0           2B       410.0            AER             2965.0          KZN   \n",
      "1           2B       410.0            ASF             2966.0          KZN   \n",
      "2           2B       410.0            ASF             2966.0          MRV   \n",
      "3           2B       410.0            CEK             2968.0          KZN   \n",
      "4           2B       410.0            CEK             2968.0          OVB   \n",
      "\n",
      "   dest_airport_id codeshare  stops equipment  \n",
      "0           2990.0       NaN      0       CR2  \n",
      "1           2990.0       NaN      0       CR2  \n",
      "2           2962.0       NaN      0       CR2  \n",
      "3           2990.0       NaN      0       CR2  \n",
      "4           4078.0       NaN      0       CR2  \n"
     ]
    }
   ],
   "source": [
    "# File path\n",
    "data_file = \"datasets/airline_routes.txt\"\n",
    "\n",
    "# Load data\n",
    "df = load_airline_data(data_file)\n",
    "\n",
    "# Display first few rows\n",
    "print(\"\\nFirst 5 rows of the data:\")\n",
    "print(df.head())"
   ]
  },
  {
   "cell_type": "markdown",
   "metadata": {},
   "source": [
    "## Create Network Graph"
   ]
  },
  {
   "cell_type": "code",
   "execution_count": 11,
   "metadata": {},
   "outputs": [
    {
     "name": "stdout",
     "output_type": "stream",
     "text": [
      "Creating airport network...\n",
      "Network created with 3425 airports and 19256 connections\n"
     ]
    }
   ],
   "source": [
    "# Create network\n",
    "G = create_airport_network(df)"
   ]
  },
  {
   "cell_type": "markdown",
   "metadata": {},
   "source": [
    "## Network Summary Statistics"
   ]
  },
  {
   "cell_type": "code",
   "execution_count": 12,
   "metadata": {},
   "outputs": [
    {
     "name": "stdout",
     "output_type": "stream",
     "text": [
      "\n",
      "============================================================\n",
      "NETWORK SUMMARY\n",
      "============================================================\n",
      "Number of airports (nodes): 3425\n",
      "Number of connections (edges): 19256\n",
      "Number of routes in dataset: 67663\n",
      "Number of connected components: 8\n",
      "Size of largest connected component: 3397\n",
      "Percentage in largest component: 99.2%\n",
      "Network density: 0.003284\n",
      "Average clustering coefficient: 0.4871\n"
     ]
    }
   ],
   "source": [
    "# Network summary\n",
    "network_summary(G, df)"
   ]
  },
  {
   "cell_type": "markdown",
   "metadata": {},
   "source": [
    "## Degree Distribution Analysis"
   ]
  },
  {
   "cell_type": "code",
   "execution_count": 13,
   "metadata": {},
   "outputs": [
    {
     "name": "stdout",
     "output_type": "stream",
     "text": [
      "Plotting degree distribution...\n"
     ]
    },
    {
     "data": {
      "image/png": "[encoded data removed]",
      "text/plain": [
       "<Figure size 1500x600 with 2 Axes>"
      ]
     },
     "metadata": {},
     "output_type": "display_data"
    },
    {
     "name": "stdout",
     "output_type": "stream",
     "text": [
      "\n",
      "Degree Distribution Statistics:\n",
      "Mean degree: 11.24\n",
      "Median degree: 3.00\n",
      "Max degree: 248\n",
      "Min degree: 1\n",
      "Standard deviation: 24.46\n"
     ]
    }
   ],
   "source": [
    "# Plot degree distribution\n",
    "plot_degree_distribution(G)"
   ]
  },
  {
   "cell_type": "markdown",
   "metadata": {},
   "source": [
    "## Centrality Measures Analysis"
   ]
  },
  {
   "cell_type": "code",
   "execution_count": 14,
   "metadata": {},
   "outputs": [
    {
     "name": "stdout",
     "output_type": "stream",
     "text": [
      "Calculating centrality measures...\n",
      "  - Degree centrality...\n",
      "  - Betweenness centrality...\n",
      "    (using sampling with k=1000 nodes)\n",
      "  - Closeness centrality...\n",
      "  - Eigenvector centrality...\n"
     ]
    }
   ],
   "source": [
    "# Calculate centrality measures\n",
    "centralities = calculate_centrality_measures(G)"
   ]
  },
  {
   "cell_type": "markdown",
   "metadata": {},
   "source": [
    "## Top Airports by Centrality Measures"
   ]
  },
  {
   "cell_type": "code",
   "execution_count": null,
   "metadata": {},
   "outputs": [],
   "source": [
    "# Display top airports\n",
    "display_top_airports(centralities, top_n=10)"
   ]
  },
  {
   "cell_type": "markdown",
   "metadata": {},
   "source": [
    "## Additional Analysis: Centrality Comparison"
   ]
  },
  {
   "cell_type": "code",
   "execution_count": null,
   "metadata": {},
   "outputs": [],
   "source": [
    "# Create a comparison plot of different centrality measures for top airports\n",
    "fig, axes = plt.subplots(2, 2, figsize=(16, 12))\n",
    "axes = axes.flatten()\n",
    "\n",
    "centrality_names = ['degree', 'betweenness', 'closeness', 'eigenvector']\n",
    "centrality_titles = ['Degree Centrality', 'Betweenness Centrality', 'Closeness Centrality', 'Eigenvector Centrality']\n",
    "\n",
    "for i, (name, title) in enumerate(zip(centrality_names, centrality_titles)):\n",
    "    # Get top 15 airports for this centrality measure\n",
    "    sorted_airports = sorted(centralities[name].items(), key=lambda x: x[1], reverse=True)[:15]\n",
    "    airports = [item[0] for item in sorted_airports]\n",
    "    values = [item[1] for item in sorted_airports]\n",
    "    \n",
    "    # Create horizontal bar plot\n",
    "    axes[i].barh(range(len(airports)), values, color=plt.cm.viridis(i/4))\n",
    "    axes[i].set_yticks(range(len(airports)))\n",
    "    axes[i].set_yticklabels(airports)\n",
    "    axes[i].set_xlabel('Centrality Value')\n",
    "    axes[i].set_title(title)\n",
    "    axes[i].grid(True, alpha=0.3)\n",
    "    \n",
    "    # Invert y-axis to show highest values at top\n",
    "    axes[i].invert_yaxis()\n",
    "\n",
    "plt.tight_layout()\n",
    "plt.savefig('centrality_comparison.png', dpi=300, bbox_inches='tight')\n",
    "plt.show()"
   ]
  },
  {
   "cell_type": "markdown",
   "metadata": {},
   "source": [
    "## Summary\n",
    "\n",
    "This analysis provides comprehensive insights into the airline routes network:\n",
    "\n",
    "1. **Network Structure**: The network shows typical characteristics of a real-world transportation network\n",
    "2. **Degree Distribution**: Shows the connectivity patterns of airports\n",
    "3. **Centrality Measures**: Identify the most important airports from different perspectives:\n",
    "   - **Degree**: Most connected airports\n",
    "   - **Betweenness**: Most important bridge airports\n",
    "   - **Closeness**: Most centrally located airports\n",
    "   - **Eigenvector**: Airports connected to other well-connected airports\n",
    "\n",
    "The analysis reveals major international hubs like Amsterdam (AMS), Frankfurt (FRA), and Paris (CDG) consistently ranking high across different centrality measures."
   ]
  }
 ],
 "metadata": {
  "kernelspec": {
   "display_name": ".venv",
   "language": "python",
   "name": "python3"
  },
  "language_info": {
   "codemirror_mode": {
    "name": "ipython",
    "version": 3
   },
   "file_extension": ".py",
   "mimetype": "text/x-python",
   "name": "python",
   "nbconvert_exporter": "python",
   "pygments_lexer": "ipython3",
   "version": "3.13.3"
  }
 },
 "nbformat": 4,
 "nbformat_minor": 4
}