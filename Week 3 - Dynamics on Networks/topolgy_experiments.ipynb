# %% [markdown]
# # Simulation-Based Experiment: How Does Network Topology Affect Spreading?
# 
# In this notebook, we will design and run a **simulation-based experiment** to understand
# how **network structure** influences the spread of a contagion (e.g., an epidemic or idea).
# 
# This follows the steps discussed in the lecture:
# 
# 1. Define the research question — *How does network topology affect spreading?*
# 2. Choose models of network structure.
# 3. Define the spreading process (SIR model).
# 4. Decide on parameters and initial conditions.
# 5. Run simulations for different network types.
# 6. Measure quantities of interest (e.g. epidemic size, duration).
# 7. Compare results and draw conclusions.

# %% [markdown]
# ## 1. Import required packages

# %%
import networkx as nx
import numpy as np
import matplotlib.pyplot as plt
import random
from collections import defaultdict

# For reproducibility
random.seed(42)
np.random.seed(42)

# %% [markdown]
# ## 2. Define network models
# 
# We will generate three classic network topologies:
# 
# - **Erdős–Rényi (ER)**: random connections between nodes (homogeneous degree distribution).  
# - **Watts–Strogatz (WS)**: small-world networks with clustering and short path lengths.  
# - **Barabási–Albert (BA)**: scale-free networks with hubs (heterogeneous degrees).  
# 
# These represent increasing levels of structure and heterogeneity in connectivity.

# %%
def generate_networks(n=200, k=4, p=0.1, m=2):
    """Generate ER, WS, and BA networks of roughly similar average degree."""
    G_er = nx.erdos_renyi_graph(n, p)
    G_ws = nx.watts_strogatz_graph(n, k, p)
    G_ba = nx.barabasi_albert_graph(n, m)
    return {"Erdos-Renyi": G_er, "Watts-Strogatz": G_ws, "Barabasi-Albert": G_ba}

networks = generate_networks()

# Plot a few small examples
fig, axs = plt.subplots(1, 3, figsize=(12, 4))
for ax, (name, G) in zip(axs, networks.items()):
    nx.draw_spring(G, ax=ax, node_size=30, edge_color="gray", node_color="dodgerblue")
    ax.set_title(name)
plt.show()

# %% [markdown]
# ## 3. Define the SIR spreading process
# 
# The **SIR model** simulates how nodes transition through three states:
# 
# - **S**usceptible  
# - **I**nfected  
# - **R**ecovered  
# 
# Parameters:
# - `beta`: probability of transmission per contact per time step  
# - `mu`: probability of recovery per infected node per time step  
# 
# At each time step:
# - Infected nodes may transmit the infection to susceptible neighbors.
# - Infected nodes may recover with probability `mu`.

# %%
def simulate_sir(G, beta=0.05, mu=0.02, initial_infected=5, max_steps=100):
    """
    Simulate an SIR process on a given NetworkX graph G.
    Returns time series of S, I, R counts.
    """
    # Initialize all nodes as susceptible
    state = {node: 'S' for node in G.nodes()}
    # Randomly infect a few nodes
    infected_nodes = random.sample(list(G.nodes()), initial_infected)
    for node in infected_nodes:
        state[node] = 'I'
    
    S_history, I_history, R_history = [], [], []

    for t in range(max_steps):
        new_state = state.copy()
        for node in G.nodes():
            if state[node] == 'I':
                # Try to infect susceptible neighbors
                for neighbor in G.neighbors(node):
                    if state[neighbor] == 'S' and random.random() < beta:
                        new_state[neighbor] = 'I'
                # Try to recover
                if random.random() < mu:
                    new_state[node] = 'R'
        state = new_state

        # Count number of nodes in each state
        S = sum(1 for s in state.values() if s == 'S')
        I = sum(1 for s in state.values() if s == 'I')
        R = sum(1 for s in state.values() if s == 'R')
        S_history.append(S)
        I_history.append(I)
        R_history.append(R)

        # Stop early if no infections left
        if I == 0:
            break

    return np.array(S_history), np.array(I_history), np.array(R_history)

# %% [markdown]
# ## 4. Run experiments across network topologies
# 
# We'll run the same SIR process (with fixed `beta` and `mu`) on each network.
# 
# - Keep network size and mean degree similar.  
# - Average over multiple repetitions to smooth randomness.  
# - Record metrics like final epidemic size (fraction of nodes infected) and duration.

# %%
def run_experiments(networks, beta=0.05, mu=0.02, reps=10):
    results = defaultdict(list)

    for name, G in networks.items():
        for r in range(reps):
            S, I, R = simulate_sir(G, beta=beta, mu=mu)
            final_size = R[-1] / G.number_of_nodes()
            duration = len(I)
            results["network"].append(name)
            results["final_size"].append(final_size)
            results["duration"].append(duration)
    return results

results = run_experiments(networks, beta=0.05, mu=0.02, reps=10)

# %% [markdown]
# ## 5. Visualize results
# 
# We’ll compare average epidemic size and duration across network types.

# %%
import pandas as pd
df = pd.DataFrame(results)

summary = df.groupby("network").agg(["mean", "std"])
summary[["final_size", "duration"]]

# %%
fig, axs = plt.subplots(1, 2, figsize=(10, 4))
df.boxplot(column="final_size", by="network", ax=axs[0], grid=False)
df.boxplot(column="duration", by="network", ax=axs[1], grid=False)
axs[0].set_title("Final Epidemic Size")
axs[1].set_title("Epidemic Duration")
plt.suptitle("Comparison of Spreading Dynamics Across Network Topologies")
plt.show()

# %% [markdown]
# ## 6. Explore parameter sensitivity
# 
# To understand how structure influences the epidemic threshold,
# we can vary the transmission probability `β` while keeping `μ` fixed.

# %%
def sweep_beta(networks, beta_values, mu=0.02, reps=5):
    data = []
    for beta in beta_values:
        res = run_experiments(networks, beta=beta, mu=mu, reps=reps)
        df = pd.DataFrame(res)
        df["beta"] = beta
        data.append(df)
    return pd.concat(data, ignore_index=True)

beta_values = np.linspace(0.01, 0.1, 10)
df_sweep = sweep_beta(networks, beta_values, mu=0.02)

# %%
plt.figure(figsize=(7,5))
for name, group in df_sweep.groupby("network"):
    means = group.groupby("beta")["final_size"].mean()
    plt.plot(means.index, means.values, marker='o', label=name)
plt.xlabel("Transmission probability β")
plt.ylabel("Final epidemic size")
plt.title("Epidemic size vs β for different network topologies")
plt.legend()
plt.show()

# %% [markdown]
# ## 7. Discussion
# 
# **Observations:**
# - Epidemics on **Barabási–Albert** networks tend to reach a larger fraction of nodes and at lower β, reflecting the *vanishing epidemic threshold* in scale-free topologies.
# - **Watts–Strogatz** networks can sustain faster spread than random networks due to small-world shortcuts.
# - **Erdős–Rényi** networks require higher β to reach global outbreaks.
# 
# **Takeaway:**
# Network structure — degree heterogeneity, clustering, and path length — fundamentally shapes spreading outcomes.  
# Simulations allow us to explore these mechanisms systematically when analytical approaches are infeasible.

s allow us to explore these mechanisms systematically when analytical approaches are infeasible.
