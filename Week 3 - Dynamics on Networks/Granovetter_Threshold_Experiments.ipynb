{
 "cells": [
  {
   "cell_type": "markdown",
   "id": "bbcad92c",
   "metadata": {},
   "source": [
    "# Granovetter Threshold Model — Targeting for Maximum Spread"
   ]
  },
  {
   "cell_type": "markdown",
   "id": "d1e289af",
   "metadata": {},
   "source": [
    "## 1. Setup"
   ]
  },
  {
   "cell_type": "code",
   "execution_count": 2,
   "id": "9d052ffe",
   "metadata": {},
   "outputs": [
    {
     "name": "stdout",
     "output_type": "stream",
     "text": [
      "Packages loaded.\n"
     ]
    }
   ],
   "source": [
    "\n",
    "import numpy as np\n",
    "import pandas as pd\n",
    "import networkx as nx\n",
    "import matplotlib.pyplot as plt\n",
    "import random\n",
    "from time import time\n",
    "\n",
    "RANDOM_SEED = 42\n",
    "random.seed(RANDOM_SEED)\n",
    "np.random.seed(RANDOM_SEED)\n",
    "\n",
    "plt.rcParams['figure.figsize'] = (6, 4)\n",
    "plt.rcParams['axes.grid'] = False\n",
    "plt.rcParams['figure.dpi'] = 120\n",
    "\n",
    "print(\"Packages loaded.\")\n"
   ]
  },
  {
   "cell_type": "markdown",
   "id": "5093c2af",
   "metadata": {},
   "source": [
    "## 2. Configuration"
   ]
  },
  {
   "cell_type": "code",
   "execution_count": 3,
   "id": "2fe0894d",
   "metadata": {},
   "outputs": [
    {
     "name": "stdout",
     "output_type": "stream",
     "text": [
      "N=300, k_avg=6, B=5, ENSEMBLES=10, RUNS_PER_SETTING=15\n"
     ]
    }
   ],
   "source": [
    "# Parameters\n",
    "N = 300 # Number of nodes\n",
    "k_avg = 6 # Average degree we aim for\n",
    "B = 5 # Number of initial adopters\n",
    "ENSEMBLES = 10 # Number of ensemble simulations to run\n",
    "RUNS_PER_SETTING = 15 # Number of simulation runs for each threshold setting\n",
    "\n",
    "# Threshold mode, defines how the threshold is set for each node\n",
    "THRESHOLD_MODE = 'beta'   # 'uniform', 'beta', 'constant', 'normal'\n",
    "PHI_MEAN = 0.30\n",
    "PHI_STD = 0.10\n",
    "\n",
    "# Maximum number of steps in each simulation run\n",
    "MAX_STEPS = 200\n",
    "# Number of steps to run the greedy algorithm for\n",
    "GREEDY_R = 5\n",
    "\n",
    "print(f\"N={N}, k_avg={k_avg}, B={B}, ENSEMBLES={ENSEMBLES}, RUNS_PER_SETTING={RUNS_PER_SETTING}\")\n"
   ]
  },
  {
   "cell_type": "markdown",
   "id": "df7e25e7",
   "metadata": {},
   "source": [
    "## 3. Network Generators"
   ]
  },
  {
   "cell_type": "code",
   "execution_count": 4,
   "id": "5318e168",
   "metadata": {},
   "outputs": [
    {
     "data": {
      "text/plain": [
       "{'ER': (300, 858), 'WS': (300, 900), 'BA': (300, 891)}"
      ]
     },
     "execution_count": 4,
     "metadata": {},
     "output_type": "execute_result"
    }
   ],
   "source": [
    "\n",
    "# This function builds three different types of networks: Erdős-Rényi (ER), Watts-Strogatz (WS), and Barabási-Albert (BA)\n",
    "# Each network is generated with a specified number of nodes (N) and average degree (k_avg)\n",
    "# The seed_base parameter is used to ensure different random networks are generated each time the function is called\n",
    "def build_networks(N, k_avg, seed_base=0):\n",
    "    p_er = k_avg / (N - 1)\n",
    "    G_er = nx.erdos_renyi_graph(N, p_er, seed=seed_base + 1)\n",
    "\n",
    "    k_ws = max(2, int(round(k_avg)))\n",
    "    if k_ws % 2 == 1:\n",
    "        k_ws += 1\n",
    "    p_ws = 0.1\n",
    "    G_ws = nx.watts_strogatz_graph(N, k_ws, p_ws, seed=seed_base + 2)\n",
    "\n",
    "    m_ba = max(1, int(k_avg // 2))\n",
    "    G_ba = nx.barabasi_albert_graph(N, m_ba, seed=seed_base + 3)\n",
    "\n",
    "    return {'ER': G_er, 'WS': G_ws, 'BA': G_ba}\n",
    "\n",
    "graphs = build_networks(N, k_avg, seed_base=RANDOM_SEED)\n",
    "{name: (G.number_of_nodes(), G.number_of_edges()) for name, G in graphs.items()}\n"
   ]
  },
  {
   "cell_type": "markdown",
   "id": "b32bf396",
   "metadata": {},
   "source": [
    "## 4. Threshold Distributions"
   ]
  },
  {
   "cell_type": "code",
   "execution_count": 5,
   "id": "f7bf8e61",
   "metadata": {},
   "outputs": [
    {
     "name": "stdout",
     "output_type": "stream",
     "text": [
      "ER threshold mean: 0.276\n",
      "WS threshold mean: 0.298\n",
      "BA threshold mean: 0.28\n"
     ]
    }
   ],
   "source": [
    "\n",
    "# This function draws threshold values for each node in the graph G\n",
    "# The threshold mode determines how the threshold values are generated\n",
    "# Each node samples a threshold value from a specified distribution (defined by mode)\n",
    "# The phi_mean and phi_std parameters are used to control the mean and standard deviation of the normal distribution\n",
    "def draw_thresholds(G, mode='uniform', phi_mean=0.3, phi_std=0.1):\n",
    "    if mode == 'uniform':\n",
    "        return {n: np.random.uniform(0, 1) for n in G}\n",
    "    if mode == 'beta':\n",
    "        a, b = 2, 5\n",
    "        return {n: np.random.beta(a, b) for n in G}\n",
    "    if mode == 'constant':\n",
    "        return {n: float(phi_mean) for n in G}\n",
    "    if mode == 'normal':\n",
    "        vals = np.clip(np.random.normal(phi_mean, phi_std, len(G)), 0, 1)\n",
    "        return {n: float(vals[i]) for i, n in enumerate(G)}\n",
    "    raise ValueError(f\"Unknown threshold mode: {mode}\")\n",
    "\n",
    "# This loop iterates over each graph in the graphs dictionary\n",
    "# For each graph, it draws threshold values using the draw_thresholds function\n",
    "# It then calculates the mean of these threshold values and prints it\n",
    "for name, G in graphs.items():\n",
    "    th = draw_thresholds(G, mode=THRESHOLD_MODE, phi_mean=PHI_MEAN, phi_std=PHI_STD)\n",
    "    arr = np.array(list(th.values()))\n",
    "    print(name, \"threshold mean:\", round(arr.mean(), 3))\n"
   ]
  },
  {
   "cell_type": "markdown",
   "id": "61d426fc",
   "metadata": {},
   "source": [
    "## 5. Threshold Dynamics"
   ]
  },
  {
   "cell_type": "code",
   "execution_count": 6,
   "id": "e3f0b877",
   "metadata": {},
   "outputs": [],
   "source": [
    "\n",
    "# This function simulates the threshold dynamics on a graph G\n",
    "# The function takes as input the graph G, a list of seed nodes (seeds), a dictionary of threshold values (thresholds), and the maximum number of steps (max_steps)\n",
    "# The function returns a dictionary of adopted nodes (adopted) and a numpy array of the fraction of adopted nodes over time (history)\n",
    "def threshold_dynamics(G, seeds, thresholds, max_steps=100):\n",
    "    adopted = {n: 0 for n in G}\n",
    "    for s in seeds:\n",
    "        adopted[s] = 1 # initially, all seed nodes are adopted\n",
    "\n",
    "    history = [sum(adopted.values()) / len(G)] #the history will store the fraction of adopted nodes over time, initially it is the fraction of adopted seed nodes\n",
    "\n",
    "    for _ in range(max_steps): # iterate max_steps times\n",
    "        new_adopted = adopted.copy()\n",
    "        changed = False\n",
    "        for i in G: # iterate over all nodes i in the graph G\n",
    "            if adopted[i] == 0: # if node i is not adopted yet\n",
    "                neigh = list(G.neighbors(i))\n",
    "                if not neigh: # if node i has no neighbors, skip it\n",
    "                    continue\n",
    "                frac = sum(adopted[j] for j in neigh) / len(neigh) # calculate the fraction of adopted neighbors of node i\n",
    "                if frac >= thresholds[i]: # if the fraction of adopted neighbors is greater than or equal to the threshold of node i\n",
    "                    new_adopted[i] = 1 # adopt node i\n",
    "                    changed = True\n",
    "        #-- end of one iteration\n",
    "\n",
    "        # update the adopted nodes after checking all nodes\n",
    "        adopted = new_adopted\n",
    "        history.append(sum(adopted.values()) / len(G)) #add the total adopted this timestep to the history\n",
    "        if not changed:\n",
    "            break # if no node is adopted in this iteration, break the loop (no more adoptions so we can stop)\n",
    "\n",
    "    return adopted, np.array(history)\n"
   ]
  },
  {
   "cell_type": "markdown",
   "id": "147352f1",
   "metadata": {},
   "source": [
    "## 6. Measurement Utilities"
   ]
  },
  {
   "cell_type": "code",
   "execution_count": 7,
   "id": "54a5bcb3",
   "metadata": {},
   "outputs": [],
   "source": [
    "\n",
    "def final_adoption_fraction(adopted):\n",
    "    return sum(adopted.values()) / len(adopted)\n",
    "\n",
    "# function to calculate the time to reach a target fraction of adopted nodes\n",
    "def time_to_fraction(history, target=0.5):\n",
    "    idx = np.where(history >= target)[0]\n",
    "    return float(idx[0]) if len(idx) else np.nan\n"
   ]
  },
  {
   "cell_type": "markdown",
   "id": "cd25f46c",
   "metadata": {},
   "source": [
    "## 7. Seeding Strategies — Heuristics"
   ]
  },
  {
   "cell_type": "code",
   "execution_count": 8,
   "id": "e2fbe340",
   "metadata": {},
   "outputs": [],
   "source": [
    "\n",
    "def random_seeds(G, B):\n",
    "    return random.sample(list(G.nodes()), B)\n",
    "\n",
    "def high_degree_seeds(G, B):\n",
    "    \"\"\"\n",
    "    Select the top-B nodes with the highest degree in graph G.\n",
    "    \"\"\"\n",
    "    # Get all (node, degree) pairs\n",
    "    degree_list = list(G.degree())\n",
    "\n",
    "    # Sort nodes by degree in descending order\n",
    "    sorted_by_degree = sorted(degree_list, key=lambda x: x[1], reverse=True)\n",
    "\n",
    "    # Take the top-B entries\n",
    "    top_B = sorted_by_degree[:B]\n",
    "\n",
    "    # Extract only the node IDs\n",
    "    result = []\n",
    "    for n, d in top_B:\n",
    "        result.append(n)\n",
    "\n",
    "    return result\n",
    "\n",
    "\n",
    "#This code below does the same as for degree. It uses a list comprehension and a lambda function.\n",
    "# The lambda function takes a tuple x = (n, b) and returns the second element (b), which is the betweenness centrality of node n.]\n",
    "# sorted(bc.items(), key=lambda x: x[1], reverse=True) sorts the items of the dictionary bc.items() by the value of the betweenness centrality (x[1]) in descending order. (Highest first)\n",
    "# [:B] takes the first B entries from the sorted list, which are the nodes with the highest betweenness centrality.\n",
    "def betweenness_seeds(G, B):\n",
    "    bc = nx.betweenness_centrality(G) #returns a dictionary that maps each node to its betweenness centrality. {n_1: bc(n_1), n_2: bc(n_2), ...}\n",
    "    return [n for n, _ in sorted(bc.items(), key=lambda x: x[1], reverse=True)[:B]]\n",
    "\n",
    "\n",
    "# This function seeds the network with B nodes with the highest core number, the core number is the number of nodes that are connected to all its neighbors\n",
    "# For a given graph G, the core number of a node v is the largest integer k such that v belongs to the k-core of G.\n",
    "# In other words:\n",
    "# \t•\tIt tells you how deeply embedded a node is within the dense core structure of the network.\n",
    "# \t•\tA higher core number means the node is part of a more cohesive and connected region of the graph.\n",
    "def kcore_seeds(G, B):\n",
    "    core = nx.core_number(G) #core_number is a dictionary that maps each node to its core number. \n",
    "    return [n for n, _ in sorted(core.items(), key=lambda x: x[1], reverse=True)[:B]]"
   ]
  },
  {
   "cell_type": "markdown",
   "id": "506e1535",
   "metadata": {},
   "source": [
    "## 8. Spread Estimation"
   ]
  },
  {
   "cell_type": "code",
   "execution_count": 9,
   "id": "a524be55",
   "metadata": {},
   "outputs": [],
   "source": [
    "\n",
    "# This function estimates the spread of the threshold dynamics on graph G\n",
    "# It runs the threshold dynamics R times with different random seeds and thresholds\n",
    "# and returns the average final adoption fraction\n",
    "def estimate_spread(G, seeds, thresholds, R=5, max_steps=100):\n",
    "    results = []\n",
    "    for _ in range(R):\n",
    "        adopted, _ = threshold_dynamics(G, seeds, thresholds, max_steps=max_steps)\n",
    "        results.append(final_adoption_fraction(adopted))\n",
    "    return float(np.mean(results))\n"
   ]
  },
  {
   "cell_type": "markdown",
   "id": "3890f29a",
   "metadata": {},
   "source": [
    "## 9. Greedy Marginal Gain (CELF-like)"
   ]
  },
  {
   "cell_type": "code",
   "execution_count": 10,
   "id": "b96ba475",
   "metadata": {},
   "outputs": [],
   "source": [
    "\n",
    "def greedy_celf(G, B, thresholds, R=5, max_steps=100, verbose=False):\n",
    "    \"\"\"\n",
    "    CELF-like lazy greedy influence maximization.\n",
    "    Uses submodularity to reduce marginal gain recomputations.\n",
    "    Returns: list of selected seed nodes (length B)\n",
    "    \"\"\"\n",
    "    base_current = estimate_spread(G, [], thresholds, R=1, max_steps=max_steps)\n",
    "\n",
    "    PQ = [] # priority queue, store the seed nodes with their gains (their impact on final adoption when they are added to the seed set)\n",
    "    for v in G:\n",
    "        gain_v = estimate_spread(G, [v], thresholds, R=R, max_steps=max_steps) - base_current\n",
    "        PQ.append({'v': v, 'gain': gain_v, 'updated_at': -1})\n",
    "    PQ.sort(key=lambda d: d['gain'], reverse=True)\n",
    "\n",
    "    S = [] # selected seed nodes\n",
    "    k = 0 # current iteration number\n",
    "    while len(S) < B and PQ: # while we have not selected B seed nodes and the priority queue is not empty\n",
    "        top = PQ.pop(0) # pop the node with the highest gain, first in PQ\n",
    "        v = top['v']\n",
    "        if top['updated_at'] == k: # if the node v is  updated in the current iteration\n",
    "            S.append(v) # add the node v to the seed set\n",
    "            k += 1 # update the current iteration number\n",
    "            base_current = estimate_spread(G, S, thresholds, R=1, max_steps=max_steps) # update the current spread of the threshold dynamics\n",
    "            if verbose:\n",
    "                print(f\"Accepted {v} with gain ~ {top['gain']:.4f}. |S|={len(S)}\")\n",
    "        else: # if the node v is not updated in the current iteration\n",
    "            gain_true = estimate_spread(G, S + [v], thresholds, R=R, max_steps=max_steps) - base_current # compute the true gain of adding v to the seed set\n",
    "            top['gain'] = gain_true\n",
    "            top['updated_at'] = k\n",
    "            PQ.append(top) # add the node v to the priority queue with its updated gain\n",
    "            PQ.sort(key=lambda d: d['gain'], reverse=True) # sort the priority queue by the gain in descending order\n",
    "\n",
    "    return S\n"
   ]
  },
  {
   "cell_type": "markdown",
   "id": "e80b3ddb",
   "metadata": {},
   "source": [
    "## 10. Experiment Runner"
   ]
  },
  {
   "cell_type": "code",
   "execution_count": 11,
   "id": "a7977c44",
   "metadata": {},
   "outputs": [],
   "source": [
    "\n",
    "def run_experiments(N, k_avg, ensembles=5, runs_per_setting=10, threshold_mode='beta',\n",
    "                    phi_mean=0.3, phi_std=0.1, B=5, max_steps=200, greedy_R=5):\n",
    "    import numpy as _np\n",
    "    import pandas as _pd\n",
    "    from time import time as _time\n",
    "    results = []\n",
    "    t0 = _time()\n",
    "    for e in range(ensembles): # for each ensemble\n",
    "        graphs = build_networks(N, k_avg, seed_base=RANDOM_SEED + e * 10) # build the networks\n",
    "        for name, G in graphs.items(): # for each network\n",
    "            thresholds = draw_thresholds(G, mode=threshold_mode, phi_mean=phi_mean, phi_std=phi_std) # draw the thresholds for each node from the distribution specified by threshold_mode\n",
    "\n",
    "            strategies = { #dictionary of seed selection strategies, the value is a (lamba) function that returns the seed set for the current strategy\n",
    "                'Random': lambda: random_seeds(G, B),\n",
    "                'Degree': lambda: high_degree_seeds(G, B),\n",
    "                'K-core': lambda: kcore_seeds(G, B),\n",
    "                'Betweenness': lambda: betweenness_seeds(G, B),\n",
    "                'Greedy': lambda: greedy_celf(G, B, thresholds, R=greedy_R, max_steps=max_steps, verbose=False)\n",
    "            }\n",
    "\n",
    "            for strat, seed_fn in strategies.items(): # for each seed selection strategy\n",
    "                seeds = seed_fn() # get the seed set for the current strategy\n",
    "                final_sizes, t50_list = [], []\n",
    "                for _ in range(runs_per_setting):\n",
    "                    adopted, history = threshold_dynamics(G, seeds, thresholds, max_steps=max_steps)\n",
    "                    final_sizes.append(final_adoption_fraction(adopted))\n",
    "                    t50_list.append(time_to_fraction(history, target=0.5))\n",
    "                results.append({\n",
    "                    'Ensemble': e,\n",
    "                    'Network': name,\n",
    "                    'Strategy': strat,\n",
    "                    'FinalAdoption': float(_np.mean(final_sizes)),\n",
    "                    'CascadeProb': float(_np.mean(_np.array(final_sizes) >= 0.5)),\n",
    "                    'Time50': float(_np.nanmean(t50_list)),\n",
    "                    'Efficiency': float(_np.mean(final_sizes) / B),\n",
    "                    'Seeds': seeds\n",
    "                })\n",
    "    t1 = _time()\n",
    "    print(f\"Completed {ensembles} ensembles x 3 networks x 5 strategies in {t1 - t0:.1f}s\")\n",
    "    return _pd.DataFrame(results)\n"
   ]
  },
  {
   "cell_type": "markdown",
   "id": "c5a93fa7",
   "metadata": {},
   "source": [
    "## 11. Run the full experiment"
   ]
  },
  {
   "cell_type": "code",
   "execution_count": 12,
   "id": "1ce43070",
   "metadata": {},
   "outputs": [
    {
     "name": "stderr",
     "output_type": "stream",
     "text": [
      "/var/folders/hw/86l889_j4zq_8nlt1zg5j6gc0000gn/T/ipykernel_31021/1649635361.py:34: RuntimeWarning: Mean of empty slice\n",
      "  'Time50': float(_np.nanmean(t50_list)),\n"
     ]
    },
    {
     "name": "stdout",
     "output_type": "stream",
     "text": [
      "Completed 10 ensembles x 3 networks x 5 strategies in 252.3s\n"
     ]
    },
    {
     "data": {
      "text/html": [
       "<div>\n",
       "<style scoped>\n",
       "    .dataframe tbody tr th:only-of-type {\n",
       "        vertical-align: middle;\n",
       "    }\n",
       "\n",
       "    .dataframe tbody tr th {\n",
       "        vertical-align: top;\n",
       "    }\n",
       "\n",
       "    .dataframe thead th {\n",
       "        text-align: right;\n",
       "    }\n",
       "</style>\n",
       "<table border=\"1\" class=\"dataframe\">\n",
       "  <thead>\n",
       "    <tr style=\"text-align: right;\">\n",
       "      <th></th>\n",
       "      <th>Ensemble</th>\n",
       "      <th>Network</th>\n",
       "      <th>Strategy</th>\n",
       "      <th>FinalAdoption</th>\n",
       "      <th>CascadeProb</th>\n",
       "      <th>Time50</th>\n",
       "      <th>Efficiency</th>\n",
       "      <th>Seeds</th>\n",
       "    </tr>\n",
       "  </thead>\n",
       "  <tbody>\n",
       "    <tr>\n",
       "      <th>0</th>\n",
       "      <td>0</td>\n",
       "      <td>ER</td>\n",
       "      <td>Random</td>\n",
       "      <td>0.99</td>\n",
       "      <td>1.0</td>\n",
       "      <td>9.0</td>\n",
       "      <td>0.198</td>\n",
       "      <td>[57, 12, 140, 125, 114]</td>\n",
       "    </tr>\n",
       "    <tr>\n",
       "      <th>1</th>\n",
       "      <td>0</td>\n",
       "      <td>ER</td>\n",
       "      <td>Degree</td>\n",
       "      <td>0.99</td>\n",
       "      <td>1.0</td>\n",
       "      <td>5.0</td>\n",
       "      <td>0.198</td>\n",
       "      <td>[232, 244, 85, 76, 14]</td>\n",
       "    </tr>\n",
       "    <tr>\n",
       "      <th>2</th>\n",
       "      <td>0</td>\n",
       "      <td>ER</td>\n",
       "      <td>K-core</td>\n",
       "      <td>0.99</td>\n",
       "      <td>1.0</td>\n",
       "      <td>7.0</td>\n",
       "      <td>0.198</td>\n",
       "      <td>[1, 2, 3, 4, 5]</td>\n",
       "    </tr>\n",
       "    <tr>\n",
       "      <th>3</th>\n",
       "      <td>0</td>\n",
       "      <td>ER</td>\n",
       "      <td>Betweenness</td>\n",
       "      <td>0.99</td>\n",
       "      <td>1.0</td>\n",
       "      <td>5.0</td>\n",
       "      <td>0.198</td>\n",
       "      <td>[232, 244, 85, 47, 76]</td>\n",
       "    </tr>\n",
       "    <tr>\n",
       "      <th>4</th>\n",
       "      <td>0</td>\n",
       "      <td>ER</td>\n",
       "      <td>Greedy</td>\n",
       "      <td>1.00</td>\n",
       "      <td>1.0</td>\n",
       "      <td>19.0</td>\n",
       "      <td>0.200</td>\n",
       "      <td>[0, 80, 111, 292, 87]</td>\n",
       "    </tr>\n",
       "  </tbody>\n",
       "</table>\n",
       "</div>"
      ],
      "text/plain": [
       "   Ensemble Network     Strategy  FinalAdoption  CascadeProb  Time50  \\\n",
       "0         0      ER       Random           0.99          1.0     9.0   \n",
       "1         0      ER       Degree           0.99          1.0     5.0   \n",
       "2         0      ER       K-core           0.99          1.0     7.0   \n",
       "3         0      ER  Betweenness           0.99          1.0     5.0   \n",
       "4         0      ER       Greedy           1.00          1.0    19.0   \n",
       "\n",
       "   Efficiency                    Seeds  \n",
       "0       0.198  [57, 12, 140, 125, 114]  \n",
       "1       0.198   [232, 244, 85, 76, 14]  \n",
       "2       0.198          [1, 2, 3, 4, 5]  \n",
       "3       0.198   [232, 244, 85, 47, 76]  \n",
       "4       0.200    [0, 80, 111, 292, 87]  "
      ]
     },
     "execution_count": 12,
     "metadata": {},
     "output_type": "execute_result"
    }
   ],
   "source": [
    "\n",
    "df_results = run_experiments(\n",
    "    N=N,\n",
    "    k_avg=k_avg,\n",
    "    ensembles=ENSEMBLES,\n",
    "    runs_per_setting=RUNS_PER_SETTING,\n",
    "    threshold_mode=THRESHOLD_MODE,\n",
    "    phi_mean=PHI_MEAN,\n",
    "    phi_std=PHI_STD,\n",
    "    B=B,\n",
    "    max_steps=MAX_STEPS,\n",
    "    greedy_R=GREEDY_R\n",
    ")\n",
    "df_results.head()\n"
   ]
  },
  {
   "cell_type": "markdown",
   "id": "be43553b",
   "metadata": {},
   "source": [
    "## 12. Save results to CSV"
   ]
  },
  {
   "cell_type": "code",
   "execution_count": 13,
   "id": "9af13721",
   "metadata": {},
   "outputs": [
    {
     "ename": "OSError",
     "evalue": "Cannot save file into a non-existent directory: '/mnt/data'",
     "output_type": "error",
     "traceback": [
      "\u001b[31m---------------------------------------------------------------------------\u001b[39m",
      "\u001b[31mOSError\u001b[39m                                   Traceback (most recent call last)",
      "\u001b[36mCell\u001b[39m\u001b[36m \u001b[39m\u001b[32mIn[13]\u001b[39m\u001b[32m, line 2\u001b[39m\n\u001b[32m      1\u001b[39m csv_path = \u001b[33m\"\u001b[39m\u001b[33m/mnt/data/granovetter_experiment_results.csv\u001b[39m\u001b[33m\"\u001b[39m\n\u001b[32m----> \u001b[39m\u001b[32m2\u001b[39m \u001b[43mdf_results\u001b[49m\u001b[43m.\u001b[49m\u001b[43mto_csv\u001b[49m\u001b[43m(\u001b[49m\u001b[43mcsv_path\u001b[49m\u001b[43m,\u001b[49m\u001b[43m \u001b[49m\u001b[43mindex\u001b[49m\u001b[43m=\u001b[49m\u001b[38;5;28;43;01mFalse\u001b[39;49;00m\u001b[43m)\u001b[49m\n\u001b[32m      3\u001b[39m \u001b[38;5;28mprint\u001b[39m(\u001b[33m\"\u001b[39m\u001b[33mSaved:\u001b[39m\u001b[33m\"\u001b[39m, csv_path)\n",
      "\u001b[36mFile \u001b[39m\u001b[32m~/Library/CloudStorage/GoogleDrive-m.h.lees@computationalscience.nl/My Drive/Teaching/2025/Model Based Decisions/Code/.venv/lib/python3.13/site-packages/pandas/util/_decorators.py:333\u001b[39m, in \u001b[36mdeprecate_nonkeyword_arguments.<locals>.decorate.<locals>.wrapper\u001b[39m\u001b[34m(*args, **kwargs)\u001b[39m\n\u001b[32m    327\u001b[39m \u001b[38;5;28;01mif\u001b[39;00m \u001b[38;5;28mlen\u001b[39m(args) > num_allow_args:\n\u001b[32m    328\u001b[39m     warnings.warn(\n\u001b[32m    329\u001b[39m         msg.format(arguments=_format_argument_list(allow_args)),\n\u001b[32m    330\u001b[39m         \u001b[38;5;167;01mFutureWarning\u001b[39;00m,\n\u001b[32m    331\u001b[39m         stacklevel=find_stack_level(),\n\u001b[32m    332\u001b[39m     )\n\u001b[32m--> \u001b[39m\u001b[32m333\u001b[39m \u001b[38;5;28;01mreturn\u001b[39;00m \u001b[43mfunc\u001b[49m\u001b[43m(\u001b[49m\u001b[43m*\u001b[49m\u001b[43margs\u001b[49m\u001b[43m,\u001b[49m\u001b[43m \u001b[49m\u001b[43m*\u001b[49m\u001b[43m*\u001b[49m\u001b[43mkwargs\u001b[49m\u001b[43m)\u001b[49m\n",
      "\u001b[36mFile \u001b[39m\u001b[32m~/Library/CloudStorage/GoogleDrive-m.h.lees@computationalscience.nl/My Drive/Teaching/2025/Model Based Decisions/Code/.venv/lib/python3.13/site-packages/pandas/core/generic.py:3989\u001b[39m, in \u001b[36mNDFrame.to_csv\u001b[39m\u001b[34m(self, path_or_buf, sep, na_rep, float_format, columns, header, index, index_label, mode, encoding, compression, quoting, quotechar, lineterminator, chunksize, date_format, doublequote, escapechar, decimal, errors, storage_options)\u001b[39m\n\u001b[32m   3978\u001b[39m df = \u001b[38;5;28mself\u001b[39m \u001b[38;5;28;01mif\u001b[39;00m \u001b[38;5;28misinstance\u001b[39m(\u001b[38;5;28mself\u001b[39m, ABCDataFrame) \u001b[38;5;28;01melse\u001b[39;00m \u001b[38;5;28mself\u001b[39m.to_frame()\n\u001b[32m   3980\u001b[39m formatter = DataFrameFormatter(\n\u001b[32m   3981\u001b[39m     frame=df,\n\u001b[32m   3982\u001b[39m     header=header,\n\u001b[32m   (...)\u001b[39m\u001b[32m   3986\u001b[39m     decimal=decimal,\n\u001b[32m   3987\u001b[39m )\n\u001b[32m-> \u001b[39m\u001b[32m3989\u001b[39m \u001b[38;5;28;01mreturn\u001b[39;00m \u001b[43mDataFrameRenderer\u001b[49m\u001b[43m(\u001b[49m\u001b[43mformatter\u001b[49m\u001b[43m)\u001b[49m\u001b[43m.\u001b[49m\u001b[43mto_csv\u001b[49m\u001b[43m(\u001b[49m\n\u001b[32m   3990\u001b[39m \u001b[43m    \u001b[49m\u001b[43mpath_or_buf\u001b[49m\u001b[43m,\u001b[49m\n\u001b[32m   3991\u001b[39m \u001b[43m    \u001b[49m\u001b[43mlineterminator\u001b[49m\u001b[43m=\u001b[49m\u001b[43mlineterminator\u001b[49m\u001b[43m,\u001b[49m\n\u001b[32m   3992\u001b[39m \u001b[43m    \u001b[49m\u001b[43msep\u001b[49m\u001b[43m=\u001b[49m\u001b[43msep\u001b[49m\u001b[43m,\u001b[49m\n\u001b[32m   3993\u001b[39m \u001b[43m    \u001b[49m\u001b[43mencoding\u001b[49m\u001b[43m=\u001b[49m\u001b[43mencoding\u001b[49m\u001b[43m,\u001b[49m\n\u001b[32m   3994\u001b[39m \u001b[43m    \u001b[49m\u001b[43merrors\u001b[49m\u001b[43m=\u001b[49m\u001b[43merrors\u001b[49m\u001b[43m,\u001b[49m\n\u001b[32m   3995\u001b[39m \u001b[43m    \u001b[49m\u001b[43mcompression\u001b[49m\u001b[43m=\u001b[49m\u001b[43mcompression\u001b[49m\u001b[43m,\u001b[49m\n\u001b[32m   3996\u001b[39m \u001b[43m    \u001b[49m\u001b[43mquoting\u001b[49m\u001b[43m=\u001b[49m\u001b[43mquoting\u001b[49m\u001b[43m,\u001b[49m\n\u001b[32m   3997\u001b[39m \u001b[43m    \u001b[49m\u001b[43mcolumns\u001b[49m\u001b[43m=\u001b[49m\u001b[43mcolumns\u001b[49m\u001b[43m,\u001b[49m\n\u001b[32m   3998\u001b[39m \u001b[43m    \u001b[49m\u001b[43mindex_label\u001b[49m\u001b[43m=\u001b[49m\u001b[43mindex_label\u001b[49m\u001b[43m,\u001b[49m\n\u001b[32m   3999\u001b[39m \u001b[43m    \u001b[49m\u001b[43mmode\u001b[49m\u001b[43m=\u001b[49m\u001b[43mmode\u001b[49m\u001b[43m,\u001b[49m\n\u001b[32m   4000\u001b[39m \u001b[43m    \u001b[49m\u001b[43mchunksize\u001b[49m\u001b[43m=\u001b[49m\u001b[43mchunksize\u001b[49m\u001b[43m,\u001b[49m\n\u001b[32m   4001\u001b[39m \u001b[43m    \u001b[49m\u001b[43mquotechar\u001b[49m\u001b[43m=\u001b[49m\u001b[43mquotechar\u001b[49m\u001b[43m,\u001b[49m\n\u001b[32m   4002\u001b[39m \u001b[43m    \u001b[49m\u001b[43mdate_format\u001b[49m\u001b[43m=\u001b[49m\u001b[43mdate_format\u001b[49m\u001b[43m,\u001b[49m\n\u001b[32m   4003\u001b[39m \u001b[43m    \u001b[49m\u001b[43mdoublequote\u001b[49m\u001b[43m=\u001b[49m\u001b[43mdoublequote\u001b[49m\u001b[43m,\u001b[49m\n\u001b[32m   4004\u001b[39m \u001b[43m    \u001b[49m\u001b[43mescapechar\u001b[49m\u001b[43m=\u001b[49m\u001b[43mescapechar\u001b[49m\u001b[43m,\u001b[49m\n\u001b[32m   4005\u001b[39m \u001b[43m    \u001b[49m\u001b[43mstorage_options\u001b[49m\u001b[43m=\u001b[49m\u001b[43mstorage_options\u001b[49m\u001b[43m,\u001b[49m\n\u001b[32m   4006\u001b[39m \u001b[43m\u001b[49m\u001b[43m)\u001b[49m\n",
      "\u001b[36mFile \u001b[39m\u001b[32m~/Library/CloudStorage/GoogleDrive-m.h.lees@computationalscience.nl/My Drive/Teaching/2025/Model Based Decisions/Code/.venv/lib/python3.13/site-packages/pandas/io/formats/format.py:1014\u001b[39m, in \u001b[36mDataFrameRenderer.to_csv\u001b[39m\u001b[34m(self, path_or_buf, encoding, sep, columns, index_label, mode, compression, quoting, quotechar, lineterminator, chunksize, date_format, doublequote, escapechar, errors, storage_options)\u001b[39m\n\u001b[32m    993\u001b[39m     created_buffer = \u001b[38;5;28;01mFalse\u001b[39;00m\n\u001b[32m    995\u001b[39m csv_formatter = CSVFormatter(\n\u001b[32m    996\u001b[39m     path_or_buf=path_or_buf,\n\u001b[32m    997\u001b[39m     lineterminator=lineterminator,\n\u001b[32m   (...)\u001b[39m\u001b[32m   1012\u001b[39m     formatter=\u001b[38;5;28mself\u001b[39m.fmt,\n\u001b[32m   1013\u001b[39m )\n\u001b[32m-> \u001b[39m\u001b[32m1014\u001b[39m \u001b[43mcsv_formatter\u001b[49m\u001b[43m.\u001b[49m\u001b[43msave\u001b[49m\u001b[43m(\u001b[49m\u001b[43m)\u001b[49m\n\u001b[32m   1016\u001b[39m \u001b[38;5;28;01mif\u001b[39;00m created_buffer:\n\u001b[32m   1017\u001b[39m     \u001b[38;5;28;01massert\u001b[39;00m \u001b[38;5;28misinstance\u001b[39m(path_or_buf, StringIO)\n",
      "\u001b[36mFile \u001b[39m\u001b[32m~/Library/CloudStorage/GoogleDrive-m.h.lees@computationalscience.nl/My Drive/Teaching/2025/Model Based Decisions/Code/.venv/lib/python3.13/site-packages/pandas/io/formats/csvs.py:251\u001b[39m, in \u001b[36mCSVFormatter.save\u001b[39m\u001b[34m(self)\u001b[39m\n\u001b[32m    247\u001b[39m \u001b[38;5;250m\u001b[39m\u001b[33;03m\"\"\"\u001b[39;00m\n\u001b[32m    248\u001b[39m \u001b[33;03mCreate the writer & save.\u001b[39;00m\n\u001b[32m    249\u001b[39m \u001b[33;03m\"\"\"\u001b[39;00m\n\u001b[32m    250\u001b[39m \u001b[38;5;66;03m# apply compression and byte/text conversion\u001b[39;00m\n\u001b[32m--> \u001b[39m\u001b[32m251\u001b[39m \u001b[38;5;28;01mwith\u001b[39;00m \u001b[43mget_handle\u001b[49m\u001b[43m(\u001b[49m\n\u001b[32m    252\u001b[39m \u001b[43m    \u001b[49m\u001b[38;5;28;43mself\u001b[39;49m\u001b[43m.\u001b[49m\u001b[43mfilepath_or_buffer\u001b[49m\u001b[43m,\u001b[49m\n\u001b[32m    253\u001b[39m \u001b[43m    \u001b[49m\u001b[38;5;28;43mself\u001b[39;49m\u001b[43m.\u001b[49m\u001b[43mmode\u001b[49m\u001b[43m,\u001b[49m\n\u001b[32m    254\u001b[39m \u001b[43m    \u001b[49m\u001b[43mencoding\u001b[49m\u001b[43m=\u001b[49m\u001b[38;5;28;43mself\u001b[39;49m\u001b[43m.\u001b[49m\u001b[43mencoding\u001b[49m\u001b[43m,\u001b[49m\n\u001b[32m    255\u001b[39m \u001b[43m    \u001b[49m\u001b[43merrors\u001b[49m\u001b[43m=\u001b[49m\u001b[38;5;28;43mself\u001b[39;49m\u001b[43m.\u001b[49m\u001b[43merrors\u001b[49m\u001b[43m,\u001b[49m\n\u001b[32m    256\u001b[39m \u001b[43m    \u001b[49m\u001b[43mcompression\u001b[49m\u001b[43m=\u001b[49m\u001b[38;5;28;43mself\u001b[39;49m\u001b[43m.\u001b[49m\u001b[43mcompression\u001b[49m\u001b[43m,\u001b[49m\n\u001b[32m    257\u001b[39m \u001b[43m    \u001b[49m\u001b[43mstorage_options\u001b[49m\u001b[43m=\u001b[49m\u001b[38;5;28;43mself\u001b[39;49m\u001b[43m.\u001b[49m\u001b[43mstorage_options\u001b[49m\u001b[43m,\u001b[49m\n\u001b[32m    258\u001b[39m \u001b[43m\u001b[49m\u001b[43m)\u001b[49m \u001b[38;5;28;01mas\u001b[39;00m handles:\n\u001b[32m    259\u001b[39m     \u001b[38;5;66;03m# Note: self.encoding is irrelevant here\u001b[39;00m\n\u001b[32m    260\u001b[39m     \u001b[38;5;28mself\u001b[39m.writer = csvlib.writer(\n\u001b[32m    261\u001b[39m         handles.handle,\n\u001b[32m    262\u001b[39m         lineterminator=\u001b[38;5;28mself\u001b[39m.lineterminator,\n\u001b[32m   (...)\u001b[39m\u001b[32m    267\u001b[39m         quotechar=\u001b[38;5;28mself\u001b[39m.quotechar,\n\u001b[32m    268\u001b[39m     )\n\u001b[32m    270\u001b[39m     \u001b[38;5;28mself\u001b[39m._save()\n",
      "\u001b[36mFile \u001b[39m\u001b[32m~/Library/CloudStorage/GoogleDrive-m.h.lees@computationalscience.nl/My Drive/Teaching/2025/Model Based Decisions/Code/.venv/lib/python3.13/site-packages/pandas/io/common.py:749\u001b[39m, in \u001b[36mget_handle\u001b[39m\u001b[34m(path_or_buf, mode, encoding, compression, memory_map, is_text, errors, storage_options)\u001b[39m\n\u001b[32m    747\u001b[39m \u001b[38;5;66;03m# Only for write methods\u001b[39;00m\n\u001b[32m    748\u001b[39m \u001b[38;5;28;01mif\u001b[39;00m \u001b[33m\"\u001b[39m\u001b[33mr\u001b[39m\u001b[33m\"\u001b[39m \u001b[38;5;129;01mnot\u001b[39;00m \u001b[38;5;129;01min\u001b[39;00m mode \u001b[38;5;129;01mand\u001b[39;00m is_path:\n\u001b[32m--> \u001b[39m\u001b[32m749\u001b[39m     \u001b[43mcheck_parent_directory\u001b[49m\u001b[43m(\u001b[49m\u001b[38;5;28;43mstr\u001b[39;49m\u001b[43m(\u001b[49m\u001b[43mhandle\u001b[49m\u001b[43m)\u001b[49m\u001b[43m)\u001b[49m\n\u001b[32m    751\u001b[39m \u001b[38;5;28;01mif\u001b[39;00m compression:\n\u001b[32m    752\u001b[39m     \u001b[38;5;28;01mif\u001b[39;00m compression != \u001b[33m\"\u001b[39m\u001b[33mzstd\u001b[39m\u001b[33m\"\u001b[39m:\n\u001b[32m    753\u001b[39m         \u001b[38;5;66;03m# compression libraries do not like an explicit text-mode\u001b[39;00m\n",
      "\u001b[36mFile \u001b[39m\u001b[32m~/Library/CloudStorage/GoogleDrive-m.h.lees@computationalscience.nl/My Drive/Teaching/2025/Model Based Decisions/Code/.venv/lib/python3.13/site-packages/pandas/io/common.py:616\u001b[39m, in \u001b[36mcheck_parent_directory\u001b[39m\u001b[34m(path)\u001b[39m\n\u001b[32m    614\u001b[39m parent = Path(path).parent\n\u001b[32m    615\u001b[39m \u001b[38;5;28;01mif\u001b[39;00m \u001b[38;5;129;01mnot\u001b[39;00m parent.is_dir():\n\u001b[32m--> \u001b[39m\u001b[32m616\u001b[39m     \u001b[38;5;28;01mraise\u001b[39;00m \u001b[38;5;167;01mOSError\u001b[39;00m(\u001b[33mrf\u001b[39m\u001b[33m\"\u001b[39m\u001b[33mCannot save file into a non-existent directory: \u001b[39m\u001b[33m'\u001b[39m\u001b[38;5;132;01m{\u001b[39;00mparent\u001b[38;5;132;01m}\u001b[39;00m\u001b[33m'\u001b[39m\u001b[33m\"\u001b[39m)\n",
      "\u001b[31mOSError\u001b[39m: Cannot save file into a non-existent directory: '/mnt/data'"
     ]
    }
   ],
   "source": [
    "\n",
    "csv_path = \"/mnt/data/granovetter_experiment_results.csv\"\n",
    "df_results.to_csv(csv_path, index=False)\n",
    "print(\"Saved:\", csv_path)\n"
   ]
  },
  {
   "cell_type": "markdown",
   "id": "1c30ea21",
   "metadata": {},
   "source": [
    "## 13. Summaries and Tables"
   ]
  },
  {
   "cell_type": "code",
   "execution_count": null,
   "id": "1d0c00f6",
   "metadata": {},
   "outputs": [],
   "source": [
    "\n",
    "pivot_final = df_results.pivot_table(index='Strategy', columns='Network', values='FinalAdoption', aggfunc='mean')\n",
    "pivot_cascade = df_results.pivot_table(index='Strategy', columns='Network', values='CascadeProb', aggfunc='mean')\n",
    "pivot_eff = df_results.pivot_table(index='Strategy', columns='Network', values='Efficiency', aggfunc='mean')\n",
    "\n",
    "print(\"Final adoption (mean):\")\n",
    "display(pivot_final)\n",
    "print(\"\\nCascade probability (mean):\")\n",
    "display(pivot_cascade)\n",
    "print(\"\\nEfficiency (mean):\")\n",
    "display(pivot_eff)\n"
   ]
  },
  {
   "cell_type": "markdown",
   "id": "45b1f8f7",
   "metadata": {},
   "source": [
    "## 14. Visual Comparison"
   ]
  },
  {
   "cell_type": "code",
   "execution_count": null,
   "id": "35e74adc",
   "metadata": {},
   "outputs": [],
   "source": [
    "\n",
    "# Separate charts per metric, no seaborn and no explicit colors\n",
    "metrics = ['FinalAdoption', 'CascadeProb', 'Efficiency']\n",
    "for metric in metrics:\n",
    "    plt.figure(figsize=(7,4))\n",
    "    df_results.boxplot(column=metric, by='Strategy', grid=False)\n",
    "    plt.title(metric)\n",
    "    plt.suptitle(\"\")\n",
    "    plt.xlabel(\"Strategy\")\n",
    "    plt.ylabel(metric)\n",
    "    plt.xticks(rotation=30, ha='right')\n",
    "    plt.tight_layout()\n",
    "    plt.show()\n"
   ]
  },
  {
   "cell_type": "markdown",
   "id": "f4dc47ef",
   "metadata": {},
   "source": [
    "\n",
    "## 15. Discussion\n",
    "- Cluster-focused and threshold-aware strategies (k-core, betweenness) often outperform degree targeting at intermediate thresholds by leveraging local reinforcement.\n",
    "- Bridge targeting can unlock cascades across communities in modular graphs.\n",
    "- Greedy (CELF-like) tends to yield the best performance for small to medium seed budgets, at higher computational cost, but the lazy updates keep it tractable.\n",
    "- Adjust `THRESHOLD_MODE`, `B`, `ENSEMBLES`, and `RUNS_PER_SETTING` to trade off runtime versus statistical stability.\n"
   ]
  }
 ],
 "metadata": {
  "kernelspec": {
   "display_name": ".venv",
   "language": "python",
   "name": "python3"
  },
  "language_info": {
   "codemirror_mode": {
    "name": "ipython",
    "version": 3
   },
   "file_extension": ".py",
   "mimetype": "text/x-python",
   "name": "python",
   "nbconvert_exporter": "python",
   "pygments_lexer": "ipython3",
   "version": "3.13.3"
  }
 },
 "nbformat": 4,
 "nbformat_minor": 5
}
